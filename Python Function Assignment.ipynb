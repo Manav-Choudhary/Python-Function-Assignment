{
 "cells": [
  {
   "cell_type": "code",
   "execution_count": 1,
   "id": "a835ee22",
   "metadata": {},
   "outputs": [
    {
     "name": "stdout",
     "output_type": "stream",
     "text": [
      "[1, 3, 5, 7, 9, 11, 13, 15, 17, 19, 21, 23, 25]\n"
     ]
    }
   ],
   "source": [
    "#Ques 1\n",
    "# def keyword is used to create a function\n",
    "def odd():\n",
    "    mylist=[]\n",
    "    for i in range(1,26):\n",
    "        if i%2!=0:\n",
    "            mylist.append(i)\n",
    "    return mylist\n",
    "print(odd())"
   ]
  },
  {
   "cell_type": "code",
   "execution_count": 3,
   "id": "63ef74f4",
   "metadata": {},
   "outputs": [
    {
     "name": "stdout",
     "output_type": "stream",
     "text": [
      "(2, 3, 4, 5)\n",
      "{'a': 2, 'b': 3, 'c': 'manav'}\n"
     ]
    }
   ],
   "source": [
    "#Ques 2\n",
    "# *args & **kwargs when we are unsure about the no of arguments to pass in the function\n",
    "def func1(*args):\n",
    "    return args\n",
    "print(func1(2,3,4,5)) # here we can pass as many arguments as u want.args store it in a tuple\n",
    "def func2(**kwargs):\n",
    "    return kwargs\n",
    "print(func2(a=2,b=3,c='manav'))#kwargs store the arguments as key value pairs"
   ]
  },
  {
   "cell_type": "code",
   "execution_count": 4,
   "id": "ebf49e21",
   "metadata": {},
   "outputs": [
    {
     "name": "stdout",
     "output_type": "stream",
     "text": [
      "2\n",
      "4\n",
      "6\n",
      "8\n",
      "10\n"
     ]
    }
   ],
   "source": [
    "#Ques 3\n",
    "# Iterator is an object that allows u to iterate over collection of items such as list,tuple\n",
    "#the method used to initialise the iterator object is Iter() and the method used for iteration is next()\n",
    "mylist=[2, 4, 6, 8, 10, 12, 14, 16,18, 20]\n",
    "myit=iter(mylist)\n",
    "for i in range(5):\n",
    "    print(next(myit))"
   ]
  },
  {
   "cell_type": "code",
   "execution_count": 5,
   "id": "2ccb9ffb",
   "metadata": {},
   "outputs": [
    {
     "data": {
      "text/plain": [
       "[0, 1, 1, 2, 3, 5, 8, 13, 21, 34]"
      ]
     },
     "execution_count": 5,
     "metadata": {},
     "output_type": "execute_result"
    }
   ],
   "source": [
    "#Ques 4 Generator function are used to return multiple values instead of storing it in and returning it.\n",
    "#We get a generator object which is iterable.\n",
    "#Yield keyword pause the function execution returns a value then again resumes function execution.It returns a single value at a time\n",
    "def fib(n):\n",
    "    a,b=0,1\n",
    "    for i in range(n):\n",
    "        yield a\n",
    "        a,b=b,a+b\n",
    "list(fib(10))"
   ]
  },
  {
   "cell_type": "code",
   "execution_count": 12,
   "id": "39d1b9e3",
   "metadata": {},
   "outputs": [
    {
     "name": "stdout",
     "output_type": "stream",
     "text": [
      "2 3 5 7 11 13 17 19 23 29 31 37 41 43 47 53 59 61 67 71 "
     ]
    }
   ],
   "source": [
    "#Ques 5\n",
    "#Generator to check prime less than 1000\n",
    "def prime():\n",
    "    for i in range(2,1000):\n",
    "        is_Prime=True\n",
    "        for j in range(2,i):\n",
    "            if i%j==0:\n",
    "                is_Prime=False\n",
    "                break\n",
    "        if is_Prime:\n",
    "            yield i\n",
    "prime_gen=prime()\n",
    "#To iterate over 1st 20 prime nos using next()\n",
    "for i in range(20):\n",
    "    x=next(prime_gen)\n",
    "    print(x,end=\" \")"
   ]
  }
 ],
 "metadata": {
  "kernelspec": {
   "display_name": "Python 3 (ipykernel)",
   "language": "python",
   "name": "python3"
  },
  "language_info": {
   "codemirror_mode": {
    "name": "ipython",
    "version": 3
   },
   "file_extension": ".py",
   "mimetype": "text/x-python",
   "name": "python",
   "nbconvert_exporter": "python",
   "pygments_lexer": "ipython3",
   "version": "3.9.7"
  }
 },
 "nbformat": 4,
 "nbformat_minor": 5
}
